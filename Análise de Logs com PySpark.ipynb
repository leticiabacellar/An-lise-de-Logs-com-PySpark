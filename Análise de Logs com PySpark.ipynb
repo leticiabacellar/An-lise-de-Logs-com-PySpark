{
 "cells": [
  {
   "cell_type": "markdown",
   "id": "627067e8",
   "metadata": {},
   "source": [
    "# 🔥 Projeto: Análise de Logs com PySpark"
   ]
  },
  {
   "cell_type": "markdown",
   "id": "92cb666f",
   "metadata": {},
   "source": [
    "## 📝 Objetivo\n",
    "\n",
    "- Processar dados de acesso a um site (simulados) com PySpark, realizando:\n",
    "\n",
    "- Limpeza dos dados\n",
    "\n",
    "- Agrupamentos e contagens\n",
    "\n",
    "- Exportação dos resultados\n"
   ]
  },
  {
   "cell_type": "markdown",
   "id": "897b1467",
   "metadata": {},
   "source": [
    "### 🐍 1. Código com PySpark\n",
    "\n",
    "🔧 Instale o PySpark (se ainda não tiver):"
   ]
  },
  {
   "cell_type": "code",
   "execution_count": null,
   "id": "2b835162",
   "metadata": {},
   "outputs": [],
   "source": [
    "pip install pyspark"
   ]
  },
  {
   "cell_type": "markdown",
   "id": "70e93cd9",
   "metadata": {},
   "source": [
    "####  🧠 Código: analise_logs_spark.py"
   ]
  },
  {
   "cell_type": "code",
   "execution_count": null,
   "id": "5071b72a",
   "metadata": {},
   "outputs": [],
   "source": [
    "from pyspark.sql import SparkSession\n",
    "from pyspark.sql.functions import col, to_date, count, desc\n",
    "\n",
    "# Criar sessão Spark\n",
    "spark = SparkSession.builder \\\n",
    "    .appName(\"Análise de Logs Web\") \\\n",
    "    .getOrCreate()\n",
    "\n",
    "# Carregar os dados do CSV\n",
    "df = spark.read.option(\"header\", True).csv(\"web_logs.csv\")\n",
    "\n",
    "# Mostrar os dados\n",
    "df.show()\n",
    "\n",
    "# Converter timestamp para data\n",
    "df = df.withColumn(\"data\", to_date(col(\"timestamp\")))\n",
    "\n",
    "# Contagem de acessos por dia\n",
    "acessos_por_dia = df.groupBy(\"data\").agg(count(\"*\").alias(\"total_acessos\"))\n",
    "acessos_por_dia.show()\n",
    "\n",
    "# Páginas mais acessadas\n",
    "paginas_top = df.groupBy(\"page\").agg(count(\"*\").alias(\"qtd_acessos\")).orderBy(desc(\"qtd_acessos\"))\n",
    "paginas_top.show()\n",
    "\n",
    "# Exportar resultados para CSV\n",
    "acessos_por_dia.coalesce(1).write.mode(\"overwrite\").option(\"header\", True).csv(\"resultado/acessos_por_dia\")\n",
    "paginas_top.coalesce(1).write.mode(\"overwrite\").option(\"header\", True).csv(\"resultado/top_paginas\")\n",
    "\n",
    "# Encerrar a sessão\n",
    "spark.stop()\n"
   ]
  },
  {
   "cell_type": "markdown",
   "id": "e0a3e1df",
   "metadata": {},
   "source": [
    "###  📦 3. Resultados\n",
    "\n",
    "Após rodar o script:\n",
    "\n",
    "Saída 1: resultado/acessos_por_dia/ → acessos por dia\n",
    "\n",
    "Saída 2: resultado/top_paginas/ → páginas mais acessadas\n",
    "\n"
   ]
  },
  {
   "cell_type": "markdown",
   "id": "a57a5870",
   "metadata": {},
   "source": [
    "### 💡 Dicas:\n",
    "\n",
    "Você pode usar datasets reais de logs também (ex: Apache logs).\n",
    "\n",
    "Para ambientes mais pesados, instale Spark com Docker ou use em cluster (como no Google Colab com PySpark)."
   ]
  },
  {
   "cell_type": "code",
   "execution_count": null,
   "id": "6091e38a",
   "metadata": {},
   "outputs": [],
   "source": [
    "🔥 Projeto: Análise de Logs com PySpark"
   ]
  }
 ],
 "metadata": {
  "kernelspec": {
   "display_name": "Python 3 (ipykernel)",
   "language": "python",
   "name": "python3"
  },
  "language_info": {
   "codemirror_mode": {
    "name": "ipython",
    "version": 3
   },
   "file_extension": ".py",
   "mimetype": "text/x-python",
   "name": "python",
   "nbconvert_exporter": "python",
   "pygments_lexer": "ipython3",
   "version": "3.9.12"
  }
 },
 "nbformat": 4,
 "nbformat_minor": 5
}
